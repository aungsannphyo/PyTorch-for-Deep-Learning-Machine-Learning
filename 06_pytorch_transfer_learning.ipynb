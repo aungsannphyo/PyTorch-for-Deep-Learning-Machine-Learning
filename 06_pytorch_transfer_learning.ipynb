{
 "cells": [
  {
   "cell_type": "markdown",
   "id": "a3cf2378",
   "metadata": {},
   "source": [
    "# PyTorch Transfer Learning"
   ]
  },
  {
   "cell_type": "markdown",
   "id": "08cac597",
   "metadata": {},
   "source": [
    "# "
   ]
  },
  {
   "cell_type": "code",
   "execution_count": null,
   "id": "d2794aee",
   "metadata": {},
   "outputs": [],
   "source": [
    "# Import require lib\n",
    "import torch\n",
    "import torchvision\n",
    "import numpy as np\n",
    "import matplotlib.pyplot as plt\n",
    "\n",
    "from torch import nn\n",
    "from torchvision import datasets\n",
    "from torchvision.transforms.v2 import Compose, Resize, ToImage, ToDtype, TrivialAugmentWide\n",
    "from torchinfo import summary\n",
    "\n",
    "\n"
   ]
  },
  {
   "cell_type": "markdown",
   "id": "11ceccb4",
   "metadata": {},
   "source": [
    "# "
   ]
  }
 ],
 "metadata": {
  "language_info": {
   "name": "python"
  }
 },
 "nbformat": 4,
 "nbformat_minor": 5
}
