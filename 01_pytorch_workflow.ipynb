{
 "cells": [
  {
   "cell_type": "markdown",
   "id": "21509de0",
   "metadata": {},
   "source": [
    "## PyTorch Workflow \n",
    "\n",
    "Let's explore an example PyTorch end to end workflow.\n",
    "\n",
    "Resources:\n",
    "- https://www.learnpytorch.io/"
   ]
  },
  {
   "cell_type": "code",
   "execution_count": 402,
   "id": "3e28511e",
   "metadata": {},
   "outputs": [
    {
     "data": {
      "text/plain": [
       "{1: 'data (prepare and load)',\n",
       " 2: 'build model',\n",
       " 3: 'fit model to data (training)',\n",
       " 4: 'make predictions and evaluate model (inference)',\n",
       " 5: 'save and load best model',\n",
       " 6: 'putting it all together'}"
      ]
     },
     "execution_count": 402,
     "metadata": {},
     "output_type": "execute_result"
    }
   ],
   "source": [
    "what_we_covering = {\n",
    "    1 : \"data (prepare and load)\",\n",
    "    2 : \"build model\",\n",
    "    3 : \"fit model to data (training)\",\n",
    "    4 : \"make predictions and evaluate model (inference)\",\n",
    "    5 : \"save and load best model\",\n",
    "    6 : \"putting it all together\"\n",
    "}\n",
    "what_we_covering"
   ]
  },
  {
   "cell_type": "code",
   "execution_count": 403,
   "id": "239d0fc6",
   "metadata": {},
   "outputs": [
    {
     "name": "stdout",
     "output_type": "stream",
     "text": [
      "2.7.1\n"
     ]
    }
   ],
   "source": [
    "import torch\n",
    "from torch import nn ## nn contains all of PyTorch's building blocks for nerual networks\n",
    "import matplotlib.pyplot as plt\n",
    "\n",
    "# Check PyTorch version\n",
    "print(torch.__version__)\n"
   ]
  },
  {
   "cell_type": "markdown",
   "id": "7a49dbc9",
   "metadata": {},
   "source": [
    "### 1. Data Preparation and Loading\n",
    "\n",
    "Data can be anything in machine learning. \n",
    "\n",
    "* Excel spreadsheet\n",
    "* Images of any kind\n",
    "* Videos ( Youtube has alot of data)\n",
    "* Audio like songs or podcasts\n",
    "* DNA\n",
    "* Text\n",
    "\n",
    "Machine Learning is a game of two parts:\n",
    "1. Get data into a numerical representation.\n",
    "2. Build a model to learn patterns in that numerical representation.\n",
    "\n",
    "To showcase this, let's create some **known** data using the linear\n",
    "regression formula - https://byjus.com/linear-regression-formula/\n",
    "\n",
    "`y = a + bx`\n",
    "\n",
    "We'll use linear regression formula to make straight line with known **parameters**.\n"
   ]
  },
  {
   "cell_type": "code",
   "execution_count": 404,
   "id": "f19b67db",
   "metadata": {},
   "outputs": [
    {
     "data": {
      "text/plain": [
       "(tensor([[0.0000],\n",
       "         [0.0200],\n",
       "         [0.0400],\n",
       "         [0.0600],\n",
       "         [0.0800],\n",
       "         [0.1000],\n",
       "         [0.1200],\n",
       "         [0.1400],\n",
       "         [0.1600],\n",
       "         [0.1800]]),\n",
       " tensor([[0.3000],\n",
       "         [0.3140],\n",
       "         [0.3280],\n",
       "         [0.3420],\n",
       "         [0.3560],\n",
       "         [0.3700],\n",
       "         [0.3840],\n",
       "         [0.3980],\n",
       "         [0.4120],\n",
       "         [0.4260]]))"
      ]
     },
     "execution_count": 404,
     "metadata": {},
     "output_type": "execute_result"
    }
   ],
   "source": [
    "import torch\n",
    "# Create known parameters\n",
    "weight = 0.7\n",
    "bias = 0.3\n",
    "\n",
    "# Create\n",
    "start = 0 \n",
    "end = 1\n",
    "step = 0.02\n",
    "\n",
    "X = torch.arange(start, end, step).unsqueeze(dim=1)\n",
    "y = bias + weight * X \n",
    "X[:10], y[:10]"
   ]
  },
  {
   "cell_type": "code",
   "execution_count": 405,
   "id": "95e836e8",
   "metadata": {},
   "outputs": [
    {
     "data": {
      "text/plain": [
       "(50, 50)"
      ]
     },
     "execution_count": 405,
     "metadata": {},
     "output_type": "execute_result"
    }
   ],
   "source": [
    "len(X), len(y)"
   ]
  },
  {
   "cell_type": "markdown",
   "id": "5080cfbf",
   "metadata": {},
   "source": [
    "#### Splitting data into training and test data sets (one of the most important concepts in machine learning in general)\n",
    "\n",
    "Let's create a training and test data sets with our data"
   ]
  },
  {
   "cell_type": "code",
   "execution_count": 406,
   "id": "8af4d7f5",
   "metadata": {},
   "outputs": [
    {
     "data": {
      "text/plain": [
       "(40, 40, 10, 10)"
      ]
     },
     "execution_count": 406,
     "metadata": {},
     "output_type": "execute_result"
    }
   ],
   "source": [
    "# Create a train/test split\n",
    "\n",
    "train_split = int(0.8 * len(X))\n",
    "X_train , y_train = X[:train_split], y[:train_split]\n",
    "X_test , y_test = X[train_split:], y[train_split:]\n",
    "\n",
    "len(X_train), len(y_train), len(X_test), len(y_test)"
   ]
  },
  {
   "cell_type": "markdown",
   "id": "f26fb759",
   "metadata": {},
   "source": [
    "how might we better visualize our data?\n",
    "\n",
    "This is where the data explor's motto come in.\n",
    "\n",
    "\"Visualize, visualize, visualize\""
   ]
  },
  {
   "cell_type": "code",
   "execution_count": 407,
   "id": "3e32e761",
   "metadata": {},
   "outputs": [],
   "source": [
    "def plot_predictions(train_data = X_train,\n",
    "                     train_labels = y_train,\n",
    "                     test_data = X_test,\n",
    "                     test_labels = y_test,\n",
    "                     predictions = None):\n",
    "    \"\"\"Plots training data, test data and compares predictions.\"\"\"\n",
    "    plt.figure(figsize=(10, 7))\n",
    "\n",
    "    # Plot training data in blue\n",
    "    plt.scatter(train_data, train_labels, c='b', s=4, label='Training data')\n",
    "\n",
    "    # Plot test data in green\n",
    "    plt.scatter(test_data, test_labels, c='g', s=4, label='Testing data')\n",
    "\n",
    "    # Are there predictions?\n",
    "    if predictions is not None:\n",
    "        # Plot the predictions if they exist\n",
    "        plt.scatter(test_data, predictions, c='r', s=4, label='Predictions')\n",
    "    \n",
    "    # Show the legend\n",
    "    plt.legend(prop={'size': 14})\n"
   ]
  },
  {
   "cell_type": "code",
   "execution_count": 408,
   "id": "4e412baf",
   "metadata": {},
   "outputs": [
    {
     "data": {
      "image/png": "[encoded data removed]",
      "text/plain": [
       "<Figure size 1000x700 with 1 Axes>"
      ]
     },
     "metadata": {},
     "output_type": "display_data"
    }
   ],
   "source": [
    "plot_predictions()"
   ]
  },
  {
   "cell_type": "markdown",
   "id": "98301c15",
   "metadata": {},
   "source": [
    "### 2. Build Model\n",
    "\n",
    "Our first PyTorch model\n",
    "\n",
    "What our model does:\n",
    "* Start with random values (weights & bias)\n",
    "* Look at training data and adjust the random values to better represent (or get closer to) the ideal values (the weights & bias value we used to create the data)\n",
    "\n",
    "How does it do so?\n",
    "Through two main algorithms:\n",
    "1. Gradient Descent - https://www.youtube.com/watch?v=IHZwWFHWa-w\n",
    "2. Backpropagation - https://www.youtube.com/watch?v=Ilg3gGewQ5U"
   ]
  },
  {
   "cell_type": "markdown",
   "id": "ef3bdc74",
   "metadata": {},
   "source": [
    "What is Gradient Descent? quick explaination\n",
    "\n",
    "Imagine a Hill and a Ball\n",
    "\n",
    "* Think of a mountain (this is your loss function).\n",
    "\n",
    "* You place a ball on the mountain (this is your model parameter, e.g. weight w).\n",
    "\n",
    "* The ball wants to roll downhill to the lowest valley (the minimum loss).\n",
    "\n",
    "But:\n",
    " * The ball doesn’t know where the bottom is.\n",
    " * It only knows the slope at its current position.\n",
    "\n",
    "That’s what gradient means: the slope of the hill.\n",
    "\n",
    " What Gradient Descent Does\n",
    "\n",
    "1. Compute the slope at the ball’s position (gradient).\n",
    "\n",
    "2. Move a small step in the opposite direction of the slope.\n",
    "\n",
    "* Because slope points uphill, so we go downhill.\n",
    "\n",
    "3. Repeat many times until the ball reaches the bottom.\n",
    "\n",
    "That’s it! "
   ]
  },
  {
   "cell_type": "code",
   "execution_count": 409,
   "id": "c4a4088b",
   "metadata": {},
   "outputs": [],
   "source": [
    "\n",
    "from torch import nn\n",
    "\n",
    "# Create linear regression model class\n",
    "\n",
    "class LinearRegressionModel(nn.Module): # <- almost everything in PyTorch inherits from nn.Module\n",
    "    def __init__(self):\n",
    "        super().__init__()\n",
    "        self.weights = nn.Parameter(torch.randn(1,\n",
    "                                                requires_grad=True,\n",
    "                                                dtype=torch.float))\n",
    "        self.bias = nn.Parameter(torch.randn(1,\n",
    "                                             requires_grad=True,\n",
    "                                             dtype=torch.float))\n",
    "\n",
    "    # Forward method to define the computation in the model\n",
    "    def forward(self, x: torch.Tensor) -> torch.Tensor: # <- \"x\" is the input data\n",
    "        return self.weights * x + self.bias # <- this is the linear regression formula\n",
    "\n"
   ]
  },
  {
   "cell_type": "markdown",
   "id": "f5fdcf3f",
   "metadata": {},
   "source": [
    "#### PyTorch Model building essentials\n",
    "\n",
    "* `torch.nn` - contains all of the building for computational graph ( a neural network can be considered as a computational graph)\n",
    "* `torch.nn.Parameter` - what parameters the model should try to learn often a PyTorch layer from torch.nn will set these for us\n",
    "* `torch.nn.Module` - the base class for all neural networks, if you subclass it, you should override the forward() method\n",
    "* `torch.optim` - this where the optimizer in PyTorch live, they will help with gradient descent\n",
    "* `def forward()` - All nn.Module subclasses require you to overwrite forward(), this method defines what happen in the forward computation\n"
   ]
  },
  {
   "cell_type": "markdown",
   "id": "2dc7317f",
   "metadata": {},
   "source": [
    "#### Check the contents of our PyTorch models"
   ]
  },
  {
   "cell_type": "code",
   "execution_count": 410,
   "id": "63fac8b9",
   "metadata": {},
   "outputs": [
    {
     "data": {
      "text/plain": [
       "[Parameter containing:\n",
       " tensor([0.3367], requires_grad=True),\n",
       " Parameter containing:\n",
       " tensor([0.1288], requires_grad=True)]"
      ]
     },
     "execution_count": 410,
     "metadata": {},
     "output_type": "execute_result"
    }
   ],
   "source": [
    "# Create random seed\n",
    "\n",
    "torch.manual_seed(42)\n",
    "\n",
    "# Create an instance of LinearRegressionModel\n",
    "model_0 = LinearRegressionModel()\n",
    "\n",
    "# Checkout the parameters\n",
    "list(model_0.parameters())"
   ]
  },
  {
   "cell_type": "code",
   "execution_count": 411,
   "id": "0451457b",
   "metadata": {},
   "outputs": [
    {
     "data": {
      "text/plain": [
       "OrderedDict([('weights', tensor([0.3367])), ('bias', tensor([0.1288]))])"
      ]
     },
     "execution_count": 411,
     "metadata": {},
     "output_type": "execute_result"
    }
   ],
   "source": [
    "# List name parameters\n",
    "model_0.state_dict()"
   ]
  },
  {
   "cell_type": "code",
   "execution_count": 412,
   "id": "0b43dd56",
   "metadata": {},
   "outputs": [
    {
     "data": {
      "text/plain": [
       "(0.7, 0.3)"
      ]
     },
     "execution_count": 412,
     "metadata": {},
     "output_type": "execute_result"
    }
   ],
   "source": [
    "weight , bias"
   ]
  },
  {
   "cell_type": "markdown",
   "id": "79d85258",
   "metadata": {},
   "source": [
    "#### Marking predictions using `torch.inference_mode()`\n",
    "\n",
    "To check our model's preductive performance, let's see how well it predicts `y_test` base on `X_test`.\n",
    "\n",
    "When we pass data to our model, its going to run it through the `forward()` function."
   ]
  },
  {
   "cell_type": "code",
   "execution_count": 413,
   "id": "93cd79b0",
   "metadata": {},
   "outputs": [
    {
     "data": {
      "text/plain": [
       "(tensor([[0.8000],\n",
       "         [0.8200],\n",
       "         [0.8400],\n",
       "         [0.8600],\n",
       "         [0.8800],\n",
       "         [0.9000],\n",
       "         [0.9200],\n",
       "         [0.9400],\n",
       "         [0.9600],\n",
       "         [0.9800]]),\n",
       " tensor([[0.8600],\n",
       "         [0.8740],\n",
       "         [0.8880],\n",
       "         [0.9020],\n",
       "         [0.9160],\n",
       "         [0.9300],\n",
       "         [0.9440],\n",
       "         [0.9580],\n",
       "         [0.9720],\n",
       "         [0.9860]]))"
      ]
     },
     "execution_count": 413,
     "metadata": {},
     "output_type": "execute_result"
    }
   ],
   "source": [
    "X_test, y_test "
   ]
  },
  {
   "cell_type": "code",
   "execution_count": 414,
   "id": "8bb12592",
   "metadata": {},
   "outputs": [
    {
     "data": {
      "text/plain": [
       "tensor([[0.3982],\n",
       "        [0.4049],\n",
       "        [0.4116],\n",
       "        [0.4184],\n",
       "        [0.4251],\n",
       "        [0.4318],\n",
       "        [0.4386],\n",
       "        [0.4453],\n",
       "        [0.4520],\n",
       "        [0.4588]], grad_fn=<AddBackward0>)"
      ]
     },
     "execution_count": 414,
     "metadata": {},
     "output_type": "execute_result"
    }
   ],
   "source": [
    "# Make predictions with inference mode\n",
    "y_preds = model_0(X_test)\n",
    "y_preds"
   ]
  },
  {
   "cell_type": "code",
   "execution_count": 415,
   "id": "ab7a7aeb",
   "metadata": {},
   "outputs": [
    {
     "data": {
      "text/plain": [
       "tensor([[0.3982],\n",
       "        [0.4049],\n",
       "        [0.4116],\n",
       "        [0.4184],\n",
       "        [0.4251],\n",
       "        [0.4318],\n",
       "        [0.4386],\n",
       "        [0.4453],\n",
       "        [0.4520],\n",
       "        [0.4588]])"
      ]
     },
     "execution_count": 415,
     "metadata": {},
     "output_type": "execute_result"
    }
   ],
   "source": [
    "# Make predictions with model\n",
    "with torch.inference_mode():\n",
    "    y_preds = model_0(X_test)\n",
    "\n",
    "# You can also do something similar with torch.no_grad(), however torch.inference_mode() is preferred\n",
    "# with torch.no_grad():\n",
    "#     y_preds = model_0(X_test)\n",
    "    \n",
    "y_preds"
   ]
  },
  {
   "cell_type": "code",
   "execution_count": 416,
   "id": "081ab664",
   "metadata": {},
   "outputs": [
    {
     "data": {
      "text/plain": [
       "tensor([[0.8600],\n",
       "        [0.8740],\n",
       "        [0.8880],\n",
       "        [0.9020],\n",
       "        [0.9160],\n",
       "        [0.9300],\n",
       "        [0.9440],\n",
       "        [0.9580],\n",
       "        [0.9720],\n",
       "        [0.9860]])"
      ]
     },
     "execution_count": 416,
     "metadata": {},
     "output_type": "execute_result"
    }
   ],
   "source": [
    "y_test"
   ]
  },
  {
   "cell_type": "code",
   "execution_count": 417,
   "id": "9a4d3f8f",
   "metadata": {},
   "outputs": [
    {
     "data": {
      "image/png": "[encoded data removed]",
      "text/plain": [
       "<Figure size 1000x700 with 1 Axes>"
      ]
     },
     "metadata": {},
     "output_type": "display_data"
    }
   ],
   "source": [
    "plot_predictions(predictions=y_preds)"
   ]
  },
  {
   "cell_type": "markdown",
   "id": "6859f2c0",
   "metadata": {},
   "source": [
    "### 3. Train Model\n",
    "\n",
    "The whole idea of training is for a model to move from some *unknonw* parameters (these may be random) to some *known* parameters\n",
    "or in other words from a poor representation of the data to a better representation of the data.\n",
    "\n",
    "One way to measure how poor to how wrong your models predictions are is to use a loss function.\n",
    "\n",
    "**Notes**: Loss functions may also be called cost functions or criterion functions in different areas.\n",
    "\n",
    "Things we need to train:\n",
    "* **Loss Function**: A function to measure how wrong your model's predictions are to the ideal outputs - https://docs.pytorch.org/docs/stable/nn.html#loss-functions\n",
    "\n",
    "* **Optimizer**: Takes into account the loss of a model and adjusts the models parameters (e.g. weight & bias) to improve the loss. - https://docs.pytorch.org/docs/stable/optim.html\n",
    "\n",
    "A specifically for PyTorch we need:\n",
    "\n",
    "1. Training loop\n",
    "2. Testing loop "
   ]
  },
  {
   "cell_type": "code",
   "execution_count": 418,
   "id": "21c9874b",
   "metadata": {},
   "outputs": [
    {
     "data": {
      "text/plain": [
       "<bound method Module.parameters of LinearRegressionModel()>"
      ]
     },
     "execution_count": 418,
     "metadata": {},
     "output_type": "execute_result"
    }
   ],
   "source": [
    "model_0.parameters"
   ]
  },
  {
   "cell_type": "code",
   "execution_count": 419,
   "id": "e399a7cb",
   "metadata": {},
   "outputs": [],
   "source": [
    "# Setup loss function \n",
    "loss_fn = nn.L1Loss()\n",
    "\n",
    "# Setup  Optimizer ( Stochastic Gradient Descent )\n",
    "optimizer = torch.optim.SGD(params=model_0.parameters(), \n",
    "                            lr=0.01) # lr is the learning rate = possibly the most important hyperparameter"
   ]
  },
  {
   "cell_type": "markdown",
   "id": "5f6d08ac",
   "metadata": {},
   "source": [
    "#### Building Training loop (and testing loop) in PyTorch\n",
    "\n",
    "1. Loop through data \n",
    "2. Forward pass (this is where the data moves through our model `forward()`) \n",
    "3. Calculate the loss (how wrong your model is) \n",
    "4. Optimizer zero grad\n",
    "5. Loss backward pass (this is where the model learns) (**backpropagation**)\n",
    "6. Optimizer step (this is where the model updates its parameters) (**gradient descent**)\n"
   ]
  },
  {
   "cell_type": "code",
   "execution_count": 420,
   "id": "95d10f3a",
   "metadata": {},
   "outputs": [
    {
     "name": "stdout",
     "output_type": "stream",
     "text": [
      "Epoch: 0 | Test 0.31288135051727295 | Test loss: 0.48106518387794495\n",
      "OrderedDict([('weights', tensor([0.3406])), ('bias', tensor([0.1388]))])\n",
      "Epoch: 10 | Test 0.1976713389158249 | Test loss: 0.3463551998138428\n",
      "OrderedDict([('weights', tensor([0.3796])), ('bias', tensor([0.2388]))])\n",
      "Epoch: 20 | Test 0.08908725529909134 | Test loss: 0.2172965705394745\n",
      "OrderedDict([('weights', tensor([0.4184])), ('bias', tensor([0.3333]))])\n",
      "Epoch: 30 | Test 0.053148530423641205 | Test loss: 0.14464019238948822\n",
      "OrderedDict([('weights', tensor([0.4512])), ('bias', tensor([0.3768]))])\n",
      "Epoch: 40 | Test 0.04543796554207802 | Test loss: 0.11360953748226166\n",
      "OrderedDict([('weights', tensor([0.4748])), ('bias', tensor([0.3868]))])\n",
      "Epoch: 50 | Test 0.04167863354086876 | Test loss: 0.09919948130846024\n",
      "OrderedDict([('weights', tensor([0.4938])), ('bias', tensor([0.3843]))])\n",
      "Epoch: 60 | Test 0.03818932920694351 | Test loss: 0.08886633813381195\n",
      "OrderedDict([('weights', tensor([0.5116])), ('bias', tensor([0.3788]))])\n",
      "Epoch: 70 | Test 0.03476089984178543 | Test loss: 0.0805937722325325\n",
      "OrderedDict([('weights', tensor([0.5288])), ('bias', tensor([0.3718]))])\n",
      "Epoch: 80 | Test 0.03132382780313492 | Test loss: 0.07232122868299484\n",
      "OrderedDict([('weights', tensor([0.5459])), ('bias', tensor([0.3648]))])\n",
      "Epoch: 90 | Test 0.027887403964996338 | Test loss: 0.06473556160926819\n",
      "OrderedDict([('weights', tensor([0.5629])), ('bias', tensor([0.3573]))])\n",
      "Epoch: 100 | Test 0.024458955973386765 | Test loss: 0.056463055312633514\n",
      "OrderedDict([('weights', tensor([0.5800])), ('bias', tensor([0.3503]))])\n",
      "Epoch: 110 | Test 0.021020209416747093 | Test loss: 0.04819049686193466\n",
      "OrderedDict([('weights', tensor([0.5972])), ('bias', tensor([0.3433]))])\n",
      "Epoch: 120 | Test 0.01758546754717827 | Test loss: 0.04060482233762741\n",
      "OrderedDict([('weights', tensor([0.6141])), ('bias', tensor([0.3358]))])\n",
      "Epoch: 130 | Test 0.014155390672385693 | Test loss: 0.03233228251338005\n",
      "OrderedDict([('weights', tensor([0.6313])), ('bias', tensor([0.3288]))])\n",
      "Epoch: 140 | Test 0.010716589167714119 | Test loss: 0.024059753865003586\n",
      "OrderedDict([('weights', tensor([0.6485])), ('bias', tensor([0.3218]))])\n",
      "Epoch: 150 | Test 0.0072835348546504974 | Test loss: 0.016474086791276932\n",
      "OrderedDict([('weights', tensor([0.6654])), ('bias', tensor([0.3143]))])\n",
      "Epoch: 160 | Test 0.003851778106763959 | Test loss: 0.008201557211577892\n",
      "OrderedDict([('weights', tensor([0.6826])), ('bias', tensor([0.3073]))])\n",
      "Epoch: 170 | Test 0.00893248151987791 | Test loss: 0.005023092031478882\n",
      "OrderedDict([('weights', tensor([0.6951])), ('bias', tensor([0.2993]))])\n",
      "Epoch: 180 | Test 0.00893248151987791 | Test loss: 0.005023092031478882\n",
      "OrderedDict([('weights', tensor([0.6951])), ('bias', tensor([0.2993]))])\n",
      "Epoch: 190 | Test 0.00893248151987791 | Test loss: 0.005023092031478882\n",
      "OrderedDict([('weights', tensor([0.6951])), ('bias', tensor([0.2993]))])\n"
     ]
    }
   ],
   "source": [
    "# An epoch is one loop through all of the data\n",
    "epochs = 200\n",
    "\n",
    "# Track different values \n",
    "epoch_count = []\n",
    "loss_values = []\n",
    "test_loss_values = []\n",
    "\n",
    "### Training\n",
    "# 1 loop through the data\n",
    "for epoch in range(epochs):\n",
    "    # Set the model to training mode\n",
    "    model_0.train() # train mode in PyTorch sets all parameters that require gradients to require gradients\n",
    "    \n",
    "    # 1 Forward pass\n",
    "    y_pred = model_0(X_train)\n",
    "\n",
    "    # 2 Calculate loss (compare model predictions to actual values)\n",
    "    loss = loss_fn(y_pred, y_train)\n",
    "\n",
    "    # 3 Optimizer zero grad\n",
    "    optimizer.zero_grad()\n",
    "\n",
    "    # 4 Perform backpropagation on the loss with respect to the model parameters\n",
    "    loss.backward()\n",
    "\n",
    "    # 5 Step the optimizer\n",
    "    optimizer.step()\n",
    "\n",
    "    ### Testing\n",
    "    model_0.eval()  # turn off different setting in the model not need for evaluation/test\n",
    "    with torch.inference_mode(): # turn off gradient tracking and backpropagation\n",
    "        # 1 Forward pass\n",
    "        test_pred = model_0(X_test)\n",
    "\n",
    "        # 2 Calculate loss (compare model predictions to actual values)\n",
    "        test_loss = loss_fn(test_pred, y_test)\n",
    "\n",
    "    # Print out model state dict\n",
    "    if epoch % 10 == 0:\n",
    "        epoch_count.append(epoch)\n",
    "        loss_values.append(loss.item())\n",
    "        test_loss_values.append(test_loss.item())\n",
    "        print(f\"Epoch: {epoch} | Test {loss} | Test loss: {test_loss}\")\n",
    "        # Print out model state dict\n",
    "        print(model_0.state_dict())"
   ]
  },
  {
   "cell_type": "code",
   "execution_count": 421,
   "id": "c5675093",
   "metadata": {},
   "outputs": [
    {
     "data": {
      "text/plain": [
       "<matplotlib.legend.Legend at 0x1642f0610>"
      ]
     },
     "execution_count": 421,
     "metadata": {},
     "output_type": "execute_result"
    },
    {
     "data": {
      "image/png": "[encoded data removed]",
      "text/plain": [
       "<Figure size 640x480 with 1 Axes>"
      ]
     },
     "metadata": {},
     "output_type": "display_data"
    }
   ],
   "source": [
    "plt.plot(epoch_count, loss_values, label=\"Train loss\")\n",
    "plt.plot(epoch_count, test_loss_values, label=\"Test loss\")\n",
    "plt.title(\"Train and Test loss\")\n",
    "plt.xlabel(\"Epochs\")\n",
    "plt.ylabel(\"Loss\")\n",
    "plt.legend()"
   ]
  },
  {
   "cell_type": "code",
   "execution_count": 422,
   "id": "466d8f0f",
   "metadata": {},
   "outputs": [],
   "source": [
    "with torch.inference_mode():\n",
    "    y_preds_new = model_0(X_test)"
   ]
  },
  {
   "cell_type": "code",
   "execution_count": 423,
   "id": "e7ea9770",
   "metadata": {},
   "outputs": [
    {
     "data": {
      "text/plain": [
       "OrderedDict([('weights', tensor([0.6990])), ('bias', tensor([0.3093]))])"
      ]
     },
     "execution_count": 423,
     "metadata": {},
     "output_type": "execute_result"
    }
   ],
   "source": [
    "model_0.state_dict()"
   ]
  },
  {
   "cell_type": "code",
   "execution_count": 424,
   "id": "00529815",
   "metadata": {},
   "outputs": [
    {
     "data": {
      "text/plain": [
       "(0.7, 0.3)"
      ]
     },
     "execution_count": 424,
     "metadata": {},
     "output_type": "execute_result"
    }
   ],
   "source": [
    "weight, bias"
   ]
  },
  {
   "cell_type": "code",
   "execution_count": 425,
   "id": "46ea1c4f",
   "metadata": {},
   "outputs": [
    {
     "data": {
      "image/png": "[encoded data removed]",
      "text/plain": [
       "<Figure size 1000x700 with 1 Axes>"
      ]
     },
     "metadata": {},
     "output_type": "display_data"
    }
   ],
   "source": [
    "plot_predictions(predictions=y_preds)"
   ]
  },
  {
   "cell_type": "code",
   "execution_count": 426,
   "id": "642dd9c4",
   "metadata": {},
   "outputs": [
    {
     "data": {
      "image/png": "[encoded data removed]",
      "text/plain": [
       "<Figure size 1000x700 with 1 Axes>"
      ]
     },
     "metadata": {},
     "output_type": "display_data"
    }
   ],
   "source": [
    "plot_predictions(predictions=y_preds_new)"
   ]
  },
  {
   "cell_type": "markdown",
   "id": "2e048a01",
   "metadata": {},
   "source": [
    "### 4. Save a model in PyTorch\n",
    "\n",
    "There are three main methods you should know about saving and loading in PyTorch.\n",
    "\n",
    "1. `torch.save()` - allows you to save a PyTorch object in Python's pickle format\n",
    "2. `torch.load()` - allows you to load a saved PyTorch object\n",
    "3. `torch.nn.Module.load_state_dict()` - allows you to load a model's parameter\n",
    "\n",
    "\n",
    "PyTorch Save and Load - https://pytorch.org/tutorials/beginner/saving_loading_models.html\n"
   ]
  },
  {
   "cell_type": "code",
   "execution_count": 427,
   "id": "212bad56",
   "metadata": {},
   "outputs": [
    {
     "name": "stdout",
     "output_type": "stream",
     "text": [
      "Saving model to: models/01_pytorch_workflow_model_0.pth\n"
     ]
    },
    {
     "data": {
      "text/plain": [
       "PosixPath('models/01_pytorch_workflow_model_0.pth')"
      ]
     },
     "execution_count": 427,
     "metadata": {},
     "output_type": "execute_result"
    }
   ],
   "source": [
    "# Saving our PyTorch model\n",
    "from pathlib import Path\n",
    "\n",
    "# 1. Create models directory\n",
    "MODEL_PATH = Path(\"models\")\n",
    "MODEL_PATH.mkdir(parents=True, exist_ok=True)\n",
    "\n",
    "# 2. Create model save path\n",
    "MODEL_NAME = \"01_pytorch_workflow_model_0.pth\"\n",
    "MODEL_SAVE_PATH = MODEL_PATH / MODEL_NAME\n",
    "\n",
    "# 3. Save the model\n",
    "print(f\"Saving model to: {MODEL_SAVE_PATH}\")\n",
    "torch.save(obj=model_0.state_dict(), f=MODEL_SAVE_PATH)\n",
    "\n",
    "MODEL_SAVE_PATH "
   ]
  },
  {
   "cell_type": "code",
   "execution_count": 428,
   "id": "195013f2",
   "metadata": {},
   "outputs": [
    {
     "name": "stdout",
     "output_type": "stream",
     "text": [
      "total 8\n",
      "-rw-r--r--@ 1 aungsan  staff  2117 Sep 10 03:54 01_pytorch_workflow_model_0.pth\n"
     ]
    }
   ],
   "source": [
    "!ls -l models/"
   ]
  },
  {
   "cell_type": "markdown",
   "id": "5746f59f",
   "metadata": {},
   "source": [
    "### 5. Loading the PyTorch model\n",
    "\n",
    "Since we saved our model's `state_dict` rather the entire model, we'll create a new instance of our model class and load the saved `state_dict` into it."
   ]
  },
  {
   "cell_type": "code",
   "execution_count": 429,
   "id": "ce611374",
   "metadata": {},
   "outputs": [
    {
     "data": {
      "text/plain": [
       "OrderedDict([('weights', tensor([0.6990])), ('bias', tensor([0.3093]))])"
      ]
     },
     "execution_count": 429,
     "metadata": {},
     "output_type": "execute_result"
    }
   ],
   "source": [
    "model_0.state_dict()"
   ]
  },
  {
   "cell_type": "code",
   "execution_count": 430,
   "id": "8fc532ef",
   "metadata": {},
   "outputs": [
    {
     "data": {
      "text/plain": [
       "<All keys matched successfully>"
      ]
     },
     "execution_count": 430,
     "metadata": {},
     "output_type": "execute_result"
    }
   ],
   "source": [
    "# To load in a saved state_dict we have to instantiate a new instance of our model class\n",
    "loaded_model_0 =  LinearRegressionModel()\n",
    "\n",
    "# load the state_dict of model_0 (this will upate the new instance with new parameters)\n",
    "loaded_model_0.load_state_dict(torch.load(f=MODEL_SAVE_PATH))"
   ]
  },
  {
   "cell_type": "code",
   "execution_count": 431,
   "id": "a493512b",
   "metadata": {},
   "outputs": [
    {
     "data": {
      "text/plain": [
       "OrderedDict([('weights', tensor([0.6990])), ('bias', tensor([0.3093]))])"
      ]
     },
     "execution_count": 431,
     "metadata": {},
     "output_type": "execute_result"
    }
   ],
   "source": [
    "loaded_model_0.state_dict()"
   ]
  },
  {
   "cell_type": "code",
   "execution_count": 432,
   "id": "c6653b6c",
   "metadata": {},
   "outputs": [
    {
     "data": {
      "text/plain": [
       "tensor([[0.8685],\n",
       "        [0.8825],\n",
       "        [0.8965],\n",
       "        [0.9105],\n",
       "        [0.9245],\n",
       "        [0.9384],\n",
       "        [0.9524],\n",
       "        [0.9664],\n",
       "        [0.9804],\n",
       "        [0.9944]])"
      ]
     },
     "execution_count": 432,
     "metadata": {},
     "output_type": "execute_result"
    }
   ],
   "source": [
    "# Make some predictions with our loaded model \n",
    "loaded_model_0.eval()\n",
    "with torch.inference_mode():\n",
    "    loaded_model_preds = loaded_model_0(X_test)\n",
    "loaded_model_preds"
   ]
  },
  {
   "cell_type": "code",
   "execution_count": 433,
   "id": "34d75941",
   "metadata": {},
   "outputs": [
    {
     "data": {
      "text/plain": [
       "tensor([[0.8685],\n",
       "        [0.8825],\n",
       "        [0.8965],\n",
       "        [0.9105],\n",
       "        [0.9245],\n",
       "        [0.9384],\n",
       "        [0.9524],\n",
       "        [0.9664],\n",
       "        [0.9804],\n",
       "        [0.9944]])"
      ]
     },
     "execution_count": 433,
     "metadata": {},
     "output_type": "execute_result"
    }
   ],
   "source": [
    "model_0.eval()\n",
    "with torch.inference_mode():\n",
    "    y_preds = model_0(X_test)\n",
    "y_preds\n"
   ]
  },
  {
   "cell_type": "code",
   "execution_count": 434,
   "id": "e9e508f2",
   "metadata": {},
   "outputs": [
    {
     "data": {
      "text/plain": [
       "tensor([[True],\n",
       "        [True],\n",
       "        [True],\n",
       "        [True],\n",
       "        [True],\n",
       "        [True],\n",
       "        [True],\n",
       "        [True],\n",
       "        [True],\n",
       "        [True]])"
      ]
     },
     "execution_count": 434,
     "metadata": {},
     "output_type": "execute_result"
    }
   ],
   "source": [
    "# Compare loaded model predictions with original model predictions\n",
    "y_preds == loaded_model_preds"
   ]
  },
  {
   "cell_type": "markdown",
   "id": "c66e733b",
   "metadata": {},
   "source": [
    "### 6. Putting it all together\n",
    "\n",
    "Let's go back through the step above and see it all in one places"
   ]
  },
  {
   "cell_type": "code",
   "execution_count": 511,
   "id": "3368da85",
   "metadata": {},
   "outputs": [
    {
     "name": "stdout",
     "output_type": "stream",
     "text": [
      "2.7.1\n"
     ]
    }
   ],
   "source": [
    "# import PyTorch and Matplotlib\n",
    "import torch\n",
    "from torch import nn\n",
    "import matplotlib.pyplot as plt\n",
    "\n",
    "# Check PyTorch version\n",
    "print(torch.__version__)\n"
   ]
  },
  {
   "cell_type": "markdown",
   "id": "4fc12e21",
   "metadata": {},
   "source": [
    "Create device agnostic code.\n",
    "\n",
    "This mean if we've got access to a GPU ,our code will use it. If not, it will use CPU."
   ]
  },
  {
   "cell_type": "code",
   "execution_count": 512,
   "id": "a7593808",
   "metadata": {},
   "outputs": [
    {
     "name": "stdout",
     "output_type": "stream",
     "text": [
      "Using device: mps\n"
     ]
    }
   ],
   "source": [
    "device = \"cuda\" if torch.cuda.is_available() else \"mps\" if torch.mps.is_available() else \"cpu\"\n",
    "print(f\"Using device: {device}\")"
   ]
  },
  {
   "cell_type": "markdown",
   "id": "25f46434",
   "metadata": {},
   "source": [
    "#### 6.1 Data"
   ]
  },
  {
   "cell_type": "code",
   "execution_count": 513,
   "id": "bbd2bda9",
   "metadata": {},
   "outputs": [
    {
     "data": {
      "text/plain": [
       "(tensor([[0.0000],\n",
       "         [0.0200],\n",
       "         [0.0400],\n",
       "         [0.0600],\n",
       "         [0.0800],\n",
       "         [0.1000],\n",
       "         [0.1200],\n",
       "         [0.1400],\n",
       "         [0.1600],\n",
       "         [0.1800]]),\n",
       " tensor([[0.3000],\n",
       "         [0.3140],\n",
       "         [0.3280],\n",
       "         [0.3420],\n",
       "         [0.3560],\n",
       "         [0.3700],\n",
       "         [0.3840],\n",
       "         [0.3980],\n",
       "         [0.4120],\n",
       "         [0.4260]]))"
      ]
     },
     "execution_count": 513,
     "metadata": {},
     "output_type": "execute_result"
    }
   ],
   "source": [
    "# Create some data using linear regression formula of y = weight * X + bias\n",
    "weight = 0.7\n",
    "bias = 0.3\n",
    "\n",
    "# Create range value\n",
    "start = 0\n",
    "end = 1\n",
    "step = 0.02\n",
    "\n",
    "# Create X and y (features and labels)\n",
    "X = torch.arange(start, end, step).unsqueeze(dim=1) # without unsqueeze, this returns a error\n",
    "y = weight * X + bias\n",
    "\n",
    "X[:10], y[:10]"
   ]
  },
  {
   "cell_type": "code",
   "execution_count": 514,
   "id": "6a4d9415",
   "metadata": {},
   "outputs": [
    {
     "data": {
      "text/plain": [
       "(40, 40, 10, 10)"
      ]
     },
     "execution_count": 514,
     "metadata": {},
     "output_type": "execute_result"
    }
   ],
   "source": [
    "# Split data\n",
    "train_split = int (0.8 * len(X))\n",
    "X_train, y_train = X[:train_split], y[:train_split]\n",
    "\n",
    "X_test, y_test = X[train_split:], y[train_split:]\n",
    "len(X_train), len(y_train), len(X_test), len(y_test)"
   ]
  },
  {
   "cell_type": "code",
   "execution_count": 515,
   "id": "c52243e8",
   "metadata": {},
   "outputs": [],
   "source": [
    "def plot_predictions(train_data = X_train,\n",
    "                     train_labels = y_train,\n",
    "                     test_data = X_test,\n",
    "                     test_labels = y_test,\n",
    "                     predictions = None):\n",
    "    \"\"\"Plots training data, test data and compares predictions.\"\"\"\n",
    "    plt.figure(figsize=(10, 7))\n",
    "\n",
    "    # Plot training data in blue\n",
    "    plt.scatter(train_data, train_labels, c='b', s=4, label='Training data')\n",
    "\n",
    "    # Plot test data in green\n",
    "    plt.scatter(test_data, test_labels, c='g', s=4, label='Testing data')\n",
    "\n",
    "    # Are there predictions?\n",
    "    if predictions is not None:\n",
    "        # Plot the predictions if they exist\n",
    "        plt.scatter(test_data, predictions, c='r', s=4, label='Predictions')\n",
    "    \n",
    "    # Show the legend\n",
    "    plt.legend(prop={'size': 14})\n"
   ]
  },
  {
   "cell_type": "code",
   "execution_count": 516,
   "id": "56d981e1",
   "metadata": {},
   "outputs": [
    {
     "data": {
      "image/png": "[encoded data removed]",
      "text/plain": [
       "<Figure size 1000x700 with 1 Axes>"
      ]
     },
     "metadata": {},
     "output_type": "display_data"
    }
   ],
   "source": [
    "# Plot the data\n",
    "# Note : if you dont have the plot_predictions function loaded , this will throw an error\n",
    "plot_predictions(X_train, y_train, X_test, y_test)"
   ]
  },
  {
   "cell_type": "markdown",
   "id": "59e626f7",
   "metadata": {},
   "source": [
    "#### 6.2 Building a Pytorch Linear Model"
   ]
  },
  {
   "cell_type": "code",
   "execution_count": 517,
   "id": "0dc94a4e",
   "metadata": {},
   "outputs": [
    {
     "data": {
      "text/plain": [
       "(LinearRegressionModelV2(\n",
       "   (linear_layer): Linear(in_features=1, out_features=1, bias=True)\n",
       " ),\n",
       " OrderedDict([('linear_layer.weight', tensor([[0.7645]])),\n",
       "              ('linear_layer.bias', tensor([0.8300]))]))"
      ]
     },
     "execution_count": 517,
     "metadata": {},
     "output_type": "execute_result"
    }
   ],
   "source": [
    "# Create a linear model by subclassing nn.Module\n",
    "\n",
    "class LinearRegressionModelV2(nn.Module):\n",
    "    def __init__(self):\n",
    "        super().__init__()\n",
    "        # Use nn.Linear() for creating the model parameters\n",
    "        self.linear_layer = nn.Linear(in_features=1, out_features=1)\n",
    "        \n",
    "    def forward(self, x: torch.Tensor) -> torch.Tensor:\n",
    "        return self.linear_layer(x)\n",
    "\n",
    "# Set the manual seed since nn.Parameter are randomly initialized\n",
    "torch.manual_seed(42)\n",
    "model_1 = LinearRegressionModelV2()\n",
    "model_1,model_1.state_dict()"
   ]
  },
  {
   "cell_type": "code",
   "execution_count": 518,
   "id": "0c254ac8",
   "metadata": {},
   "outputs": [
    {
     "data": {
      "text/plain": [
       "device(type='cpu')"
      ]
     },
     "execution_count": 518,
     "metadata": {},
     "output_type": "execute_result"
    }
   ],
   "source": [
    "# Check the model current device\n",
    "next(model_1.parameters()).device"
   ]
  },
  {
   "cell_type": "code",
   "execution_count": 519,
   "id": "656facf8",
   "metadata": {},
   "outputs": [
    {
     "data": {
      "text/plain": [
       "device(type='mps', index=0)"
      ]
     },
     "execution_count": 519,
     "metadata": {},
     "output_type": "execute_result"
    }
   ],
   "source": [
    "# Set the model to use the target device\n",
    "model_1.to(device)\n",
    "next(model_1.parameters()).device"
   ]
  },
  {
   "cell_type": "markdown",
   "id": "cab7dd68",
   "metadata": {},
   "source": [
    "#### 6.3 Training \n",
    "For training we need to define\n",
    "\n",
    "1. Loss function\n",
    "2. Optimizer\n",
    "3. Training loop\n",
    "4. Testing loop\n"
   ]
  },
  {
   "cell_type": "code",
   "execution_count": 520,
   "id": "74eae471",
   "metadata": {},
   "outputs": [],
   "source": [
    "# setup the loss function \n",
    "loss_fn = nn.L1Loss() # same as MAE\n",
    "\n",
    "# setup the optimizer\n",
    "optimizer = torch.optim.SGD(params=model_1.parameters(), lr=0.01)"
   ]
  },
  {
   "cell_type": "code",
   "execution_count": 521,
   "id": "67af19ec",
   "metadata": {},
   "outputs": [
    {
     "name": "stdout",
     "output_type": "stream",
     "text": [
      "Epoch: 0 | Test 0.5551779270172119 | Test loss: 0.5739762783050537\n",
      "Epoch: 10 | Test 0.4399681091308594 | Test loss: 0.4392664134502411\n",
      "Epoch: 20 | Test 0.3247582018375397 | Test loss: 0.30455657839775085\n",
      "Epoch: 30 | Test 0.20954833924770355 | Test loss: 0.16984672844409943\n",
      "Epoch: 40 | Test 0.09433844685554504 | Test loss: 0.03513688966631889\n",
      "Epoch: 50 | Test 0.023886388167738914 | Test loss: 0.04784907028079033\n",
      "Epoch: 60 | Test 0.019956793636083603 | Test loss: 0.04580312967300415\n",
      "Epoch: 70 | Test 0.016517985612154007 | Test loss: 0.037530578672885895\n",
      "Epoch: 80 | Test 0.013089167885482311 | Test loss: 0.02994491532444954\n",
      "Epoch: 90 | Test 0.009653175249695778 | Test loss: 0.02167237363755703\n",
      "Epoch: 100 | Test 0.006215682718902826 | Test loss: 0.014086711220443249\n",
      "Epoch: 110 | Test 0.002787243574857712 | Test loss: 0.005814170930534601\n",
      "Epoch: 120 | Test 0.0012645088136196136 | Test loss: 0.013801807537674904\n",
      "Epoch: 130 | Test 0.0012645088136196136 | Test loss: 0.013801807537674904\n",
      "Epoch: 140 | Test 0.0012645088136196136 | Test loss: 0.013801807537674904\n",
      "Epoch: 150 | Test 0.0012645088136196136 | Test loss: 0.013801807537674904\n",
      "Epoch: 160 | Test 0.0012645088136196136 | Test loss: 0.013801807537674904\n",
      "Epoch: 170 | Test 0.0012645088136196136 | Test loss: 0.013801807537674904\n",
      "Epoch: 180 | Test 0.0012645088136196136 | Test loss: 0.013801807537674904\n",
      "Epoch: 190 | Test 0.0012645088136196136 | Test loss: 0.013801807537674904\n"
     ]
    }
   ],
   "source": [
    "# Let write training loop\n",
    "torch.manual_seed(42)\n",
    "\n",
    "epochs = 200\n",
    "\n",
    "# Put data on the target device (device agnostic code for data)\n",
    "X_train = X_train.to(device)\n",
    "X_test = X_test.to(device)\n",
    "y_train = y_train.to(device)\n",
    "y_test = y_test.to(device)\n",
    "\n",
    "for epoch in range(epochs):\n",
    "    model_1.train()\n",
    "    \n",
    "    # 1. Forward pass\n",
    "    y_pred = model_1(X_train)\n",
    "    \n",
    "    # 2. Calculate loss\n",
    "    loss = loss_fn(y_pred, y_train)\n",
    "    \n",
    "    # 3. Zero grad\n",
    "    optimizer.zero_grad()\n",
    "    \n",
    "    # 4. Backprop\n",
    "    loss.backward()\n",
    "    \n",
    "    # 5. Step optimizer\n",
    "    optimizer.step()\n",
    "    \n",
    "    ### Testing\n",
    "    model_1.eval()\n",
    "    with torch.inference_mode():\n",
    "        test_pred = model_1(X_test)\n",
    "        test_loss = loss_fn(test_pred, y_test)\n",
    "\n",
    "    # Print out what's happening\n",
    "    if epoch % 10 == 0:\n",
    "        print(f\"Epoch: {epoch} | Test {loss} | Test loss: {test_loss}\")    \n",
    "    \n"
   ]
  },
  {
   "cell_type": "code",
   "execution_count": 522,
   "id": "51629512",
   "metadata": {},
   "outputs": [
    {
     "data": {
      "text/plain": [
       "(OrderedDict([('linear_layer.weight', tensor([[0.6968]], device='mps:0')),\n",
       "              ('linear_layer.bias', tensor([0.3025], device='mps:0'))]),\n",
       " 0.7,\n",
       " 0.3)"
      ]
     },
     "execution_count": 522,
     "metadata": {},
     "output_type": "execute_result"
    }
   ],
   "source": [
    "model_1.state_dict(), weight, bias"
   ]
  },
  {
   "cell_type": "markdown",
   "id": "a3612254",
   "metadata": {},
   "source": [
    "#### 6.4 Making and Evaluating Predictions"
   ]
  },
  {
   "cell_type": "code",
   "execution_count": 523,
   "id": "72fd2c6e",
   "metadata": {},
   "outputs": [
    {
     "data": {
      "text/plain": [
       "tensor([[0.8600],\n",
       "        [0.8739],\n",
       "        [0.8878],\n",
       "        [0.9018],\n",
       "        [0.9157],\n",
       "        [0.9296],\n",
       "        [0.9436],\n",
       "        [0.9575],\n",
       "        [0.9714],\n",
       "        [0.9854]], device='mps:0')"
      ]
     },
     "execution_count": 523,
     "metadata": {},
     "output_type": "execute_result"
    }
   ],
   "source": [
    "# Turn a model into eval mode\n",
    "model_1.eval()\n",
    "\n",
    "# Make predictions on the test data\n",
    "with torch.inference_mode():\n",
    "    y_preds = model_1(X_test)\n",
    "y_preds"
   ]
  },
  {
   "cell_type": "code",
   "execution_count": 524,
   "id": "2899e690",
   "metadata": {},
   "outputs": [
    {
     "data": {
      "image/png": "[encoded data removed]",
      "text/plain": [
       "<Figure size 1000x700 with 1 Axes>"
      ]
     },
     "metadata": {},
     "output_type": "display_data"
    }
   ],
   "source": [
    "# Check out model predictions visually\n",
    "plot_predictions(predictions=y_preds.cpu())"
   ]
  },
  {
   "cell_type": "markdown",
   "id": "4d4161e9",
   "metadata": {},
   "source": [
    "#### 6.5 Saving and Loading Models"
   ]
  },
  {
   "cell_type": "code",
   "execution_count": 525,
   "id": "771eff2f",
   "metadata": {},
   "outputs": [
    {
     "name": "stdout",
     "output_type": "stream",
     "text": [
      "Saving model to: models/01_pytorch_workflow_model_1.pth\n"
     ]
    },
    {
     "data": {
      "text/plain": [
       "PosixPath('models/01_pytorch_workflow_model_1.pth')"
      ]
     },
     "execution_count": 525,
     "metadata": {},
     "output_type": "execute_result"
    }
   ],
   "source": [
    "from pathlib import Path\n",
    "\n",
    "# 1. Create models directory\n",
    "MODEL_PATH = Path(\"models\")\n",
    "MODEL_PATH.mkdir(parents=True, exist_ok=True)\n",
    "\n",
    "# 2. Create model save path\n",
    "MODEL_NAME = \"01_pytorch_workflow_model_1.pth\"\n",
    "MODEL_SAVE_PATH = MODEL_PATH / MODEL_NAME\n",
    "\n",
    "# 3. Save the model\n",
    "print(f\"Saving model to: {MODEL_SAVE_PATH}\")\n",
    "torch.save(obj=model_1.state_dict(), f=MODEL_SAVE_PATH)\n",
    "\n",
    "MODEL_SAVE_PATH "
   ]
  },
  {
   "cell_type": "code",
   "execution_count": 526,
   "id": "a8e2415a",
   "metadata": {},
   "outputs": [
    {
     "data": {
      "text/plain": [
       "OrderedDict([('linear_layer.weight', tensor([[0.6968]], device='mps:0')),\n",
       "             ('linear_layer.bias', tensor([0.3025], device='mps:0'))])"
      ]
     },
     "execution_count": 526,
     "metadata": {},
     "output_type": "execute_result"
    }
   ],
   "source": [
    "model_1.state_dict()"
   ]
  },
  {
   "cell_type": "code",
   "execution_count": 527,
   "id": "c86f8b85",
   "metadata": {},
   "outputs": [
    {
     "data": {
      "text/plain": [
       "LinearRegressionModelV2(\n",
       "  (linear_layer): Linear(in_features=1, out_features=1, bias=True)\n",
       ")"
      ]
     },
     "execution_count": 527,
     "metadata": {},
     "output_type": "execute_result"
    }
   ],
   "source": [
    "# Loaded PyTorch model\n",
    "\n",
    "# Create a new instance of linear regression model v2\n",
    "loaded_model_1 = LinearRegressionModelV2()\n",
    "\n",
    "# Load model state dict\n",
    "loaded_model_1.load_state_dict(torch.load(MODEL_SAVE_PATH))\n",
    "\n",
    "# Put loaded model to device\n",
    "loaded_model_1.to(device)\n"
   ]
  },
  {
   "cell_type": "code",
   "execution_count": 528,
   "id": "1cb40ed0",
   "metadata": {},
   "outputs": [
    {
     "data": {
      "text/plain": [
       "tensor([[True],\n",
       "        [True],\n",
       "        [True],\n",
       "        [True],\n",
       "        [True],\n",
       "        [True],\n",
       "        [True],\n",
       "        [True],\n",
       "        [True],\n",
       "        [True]], device='mps:0')"
      ]
     },
     "execution_count": 528,
     "metadata": {},
     "output_type": "execute_result"
    }
   ],
   "source": [
    "# Evaluated loaded model\n",
    "\n",
    "loaded_model_1.eval()\n",
    "with torch.inference_mode():\n",
    "    loaded_model_1_preds = loaded_model_1(X_test)\n",
    "y_preds == loaded_model_1_preds"
   ]
  }
 ],
 "metadata": {
  "kernelspec": {
   "display_name": "Python 3",
   "language": "python",
   "name": "python3"
  },
  "language_info": {
   "codemirror_mode": {
    "name": "ipython",
    "version": 3
   },
   "file_extension": ".py",
   "mimetype": "text/x-python",
   "name": "python",
   "nbconvert_exporter": "python",
   "pygments_lexer": "ipython3",
   "version": "3.10.13"
  }
 },
 "nbformat": 4,
 "nbformat_minor": 5
}
